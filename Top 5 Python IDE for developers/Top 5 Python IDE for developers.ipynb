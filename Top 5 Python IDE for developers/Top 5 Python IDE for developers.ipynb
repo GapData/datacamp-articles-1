{
 "cells": [
  {
   "cell_type": "markdown",
   "metadata": {},
   "source": [
    "<img src='patolino-pernalonga-python-ide.gif'></img>"
   ]
  },
  {
   "cell_type": "markdown",
   "metadata": {},
   "source": [
    "<h1>Top 5 Python IDEs for developers</h1>"
   ]
  },
  {
   "cell_type": "markdown",
   "metadata": {
    "collapsed": true
   },
   "source": [
    "IDE stands for Integrated Development Environment. It's a coding tool which allows you to write, test and debug your code in a easier way. It's a very broad concept and might confuse you about which IDE you should use. The truth is that you can coding in almost any software, from prompt command to Windows notepad, but you may also want a proper place which combines coding facility with a debugging environment.\n",
    "\n",
    "You may wondering why you should use an IDE instead of your Windows notepad, for example, and here is the answer: practicality. For instance, imagine that you are coding in any text editor like Windows notepad. When your code be ready, you'll need to run it. You can't execute your program in a text editor like this, so you must use a prompt command to do it. Rather than use two different programs, wouldn't better have it all in just one place? That's what an IDE is ready for."
   ]
  },
  {
   "cell_type": "markdown",
   "metadata": {},
   "source": [
    "IDEs are useful for development, chiefly for data science. It allows you to edit you code easily and check for typos and errors - some IDEs highlight the line where the code will crash before you execute it. The <a href='http://stackoverflow.com/insights/survey/2016#technology-development-environments'>Stack Overflow performed a survey</a> in its community about, among other things, development environments. As you can see below, Notepad++ and Visual Studio are in the top of the list."
   ]
  },
  {
   "cell_type": "markdown",
   "metadata": {},
   "source": [
    "<h2>IDE vs Text Editors</h2>\n",
    "<img src='so-poll.jpg'></img>"
   ]
  },
  {
   "cell_type": "markdown",
   "metadata": {},
   "source": [
    "As we told you earlier, there are some differences between IDEs and text editors like Windows notepad. But, take a closer look at the image above. As you can see, Notepad++ - a text editor in its essence - is one of the tools most used by Stack Overflow community. Isn't it weird?\n",
    "\n",
    "In fact, many text editors can be used as an IDE by mean of plugins, just like Notepad++. Options like the <a href='https://sourceforge.net/projects/npp-plugins/files/DBGP%20Plugin/'>DBGP for Notepad++</a> installs a debugger in the application, allowing you to run and analyse your code directly in your favorite text editor. However, such aspects are part of built-in features in softwares like Visual Studio, Spyder and Rodeo, for example. You don't need to install nothing else."
   ]
  },
  {
   "cell_type": "markdown",
   "metadata": {},
   "source": [
    "<h2>The top 5 IDEs for Python</h2>\n",
    "\n",
    "Creating a list with just five IDEs is a hard task. In fact, the best IDE will be that one which makes your life easier and your work more profitable. See this list as a guide of softwares to test before you pick your favorite."
   ]
  },
  {
   "cell_type": "markdown",
   "metadata": {},
   "source": [
    "<h2>Spyder</h2>\n",
    "<img src='spyder.png' alt='Spyder interface'></img>\n",
    "\n",
    "If you have the Anaconda distribution installed on your computer, you probably know it. Spyder is an open source cross-plataform IDE for data science. If you have never worked with IDE, Spyder could be perfectly your first approach. It integrates the essencials libraries for data science, such as NumPy, SciPy, Matplotlib and IPython, besides that, it can be extended with plugins.\n",
    "\n",
    "Spyder contains features like text editor with syntax highlighting, code completion and variable exploring, which you can edit its values from a GUI - Graphical user interface. Spyder is free and it's available for Windows, MacOS and major Linux distributions, like Debian, Fedora and Ubuntu. You can install Spyder by <a href='https://www.continuum.io/downloads'>downloading Anaconda on Continuum's website</a>."
   ]
  },
  {
   "cell_type": "markdown",
   "metadata": {},
   "source": [
    "<h2>PyCharm</h2>\n",
    "<img src='pycharm.png' alt='PyCharm interface'></img>\n",
    "\n",
    "PyCharm is an IDE made by the guys at JetBrain, a team responsible for one of the most famous Java IDE, the IntelliJ IDEA. This tool could be a perfect choice for those who already have experience using another JetBrain's IDE, due the interface and features be very similar.\n",
    "\n",
    "Just like another IDEs, PyCharm has interesting features such as a code editor, errors highlighting, a powerful debugger with graphical interface, besides of Git integration, SVN and Mercurial. Talking about integration, if you like IPython or Anaconda distribution, it would be nice for you to know that PyCharm integrates it tools and libraries such as NumPy and Matplotlib, allowing you work with array viewers and interative plots.\n",
    "\n",
    "In addition to Python, PyCharm provides support for JavaScript, HTML/CSS, Angular JS, Node.js, and so on, what makes it a good option for web development. Available for free on Windows, Linux and Mac, you can expand PyCharm's features by mean of plugins. You can also customize your IDE, choosing between different themes, color schemes and key-binding."
   ]
  },
  {
   "cell_type": "markdown",
   "metadata": {
    "collapsed": true
   },
   "source": [
    "<h2>Rodeo</h2>\n",
    "<img src='rodeo.jpg'></img>\n",
    "\n",
    "Don't let this orange hat fool you: Rodeo is one of the best Python IDE for data science. That's because it was built specifically for data analysis. It's pretty similar to RStudio - an IDE for R language -, not just because of its appearance, but also for its features. For instance, initially the IDE's window is divided in four groups: text editor, console, environment - for variable visualization - and plot/libraries/files, just like RStudio. \n",
    "<br>\n",
    "<br>\n",
    "<img src='rodeo-tutorials.gif' width='750px'></img>\n",
    "<br>\n",
    "<br>\n",
    "This isn't a bad thing, on the contrary, if you are an R user and you are migrating to Python, Rodeo surelly could be your initial approach. It is also great for newbies, thanks to its helper material such as cheatsheets and built-in tutorials. The main advantage of this IDE is its customization. You can easily see and explore what you are creating, either by inspecting variable's values and interacting with plots and data frames. For free, Rodeo is available for Windows, Linux and Mac. "
   ]
  },
  {
   "cell_type": "markdown",
   "metadata": {
    "collapsed": true
   },
   "source": [
    "<h2>Atom</h2>\n",
    "<img src='atom.jpg'></img>\n",
    "\n",
    "An open source IDE developed by Github. Sounds good, right? That's exactly what Atom is. Altough it's available for many popular programming languages such as Ruby on Rails, PHP, Java and so on, Atom has interesting features that create a good experience for Python developers. One of the best advantages of Atom is its community, chiefly due to the constants enhancements and plugins that they develop in order to customize your IDE and improve your workflow.\n",
    "\n",
    "Based in Electron - also known as Atom Shell, a framework cross-platform desktop applications by using Chromium -, Atom is available for free for Windows, OS X and Linux. As another IDEs, it allows you to use multiples panes, select themes and colors and managing multiples projects. But, there's one thing: Atom might have an weak performance on old computers or weak CPU, but its integration with git is awesome, after all, it was made by GitHub."
   ]
  },
  {
   "cell_type": "markdown",
   "metadata": {
    "collapsed": true
   },
   "source": [
    "<h2>Jupyter Notebook</h2>\n",
    "<img src='jupyter-notebook.png'></img>\n",
    "\n"
   ]
  },
  {
   "cell_type": "markdown",
   "metadata": {
    "collapsed": true
   },
   "source": [
    "Jupyter Notebook was born out of IPython in 2014. It is a web application based on server-client structure and it allows to create and manipule notebook documents - or just \"notebooks\". Jupyter Notebook doesn't work just as an IDE, but also as a presentation tool. The notebook is divided but cells, independent blocks of code that supports programming languages like Julia, Python, R and many others. In addition to that, Jupyter Notebook supports markdown text, allowing you to add HTML components from images to videos.\n",
    "\n",
    "Thanks to Jupyter, you can easily see and edit your code in order to create compelling presentations. For instance, you can use data visualization libraries like Matplotlib and Seaborn and plot your graphs in the same document that your code is. Besides that, you can export your final work to PDF and HTML files, or you can just export it as an .py file.\n",
    "\n",
    "Jupyter Notebook is easy to install and easier to use. If you want to know everything about Jupyter and its nuances, <a href='https://www.datacamp.com/community/tutorials/tutorial-jupyter-notebook'>check it out this tutorial that will guide you through this awesome data science tool</a>."
   ]
  },
  {
   "cell_type": "markdown",
   "metadata": {},
   "source": [
    "<h2>Honorable mentions</h2>"
   ]
  },
  {
   "cell_type": "markdown",
   "metadata": {
    "collapsed": true
   },
   "source": [
    "What's the best IDE for you? The answer is simples: that one which make your life easier and your work more profitable. The purpose of this list is give you good references to start off. You can try each one and give your considerations about what it's good and bad at. In addition to that, you can try some alternatives that probably might give you a even better score."
   ]
  },
  {
   "cell_type": "markdown",
   "metadata": {},
   "source": [
    "<img src='nteract.jpg'></img>\n",
    "\n",
    "For instance, <a href='https://nteract.io/'>nteract.io</a> could be a good alternative. nteract is a desktop application that allows you to create notebooks just like Jupyter Notebook, however, Instead of setting a server like in Jupyter, you download and execute an application that provides you all the tools to create beautiful documents with code and markdown. It's available for Windows, Mac and Linux, besides of support ipynb files - IPython notebooks.\n",
    "\n",
    "Another alternative could be the Visual Studio Code. It's a text editor developed by Microsoft, but it can also be used as an IDE. One good thing about Visual Studio is it Git integration. Like Atom, you can commit, sync and create branches in your repositories easily with this application. Visual Studio contains a feature called IntelliSense, which provides code completions based on variable types, functions and imported modules. It also provides syntax highlighting and autocomplete function."
   ]
  },
  {
   "cell_type": "markdown",
   "metadata": {
    "collapsed": true
   },
   "source": [
    "<h2>Conclusion</h2>\n",
    "\n",
    "IDEs surely can help you to improve your workflow and make your work profitable. You can write, execute and debug your code easily, aside from customize windows and colors in order to get confortable. Instead of an IDE, you can also try a text editor like Notepad++, but keep in mind that you'll need to expand it by using plugins - such as PyNPP - if you want to execute your code.\n",
    "\n",
    "We hope this article helped you to know further about IDEs. Do you know another good IDE for Python? Let us know by letting your comment below."
   ]
  }
 ],
 "metadata": {
  "anaconda-cloud": {},
  "kernelspec": {
   "display_name": "Python [default]",
   "language": "python",
   "name": "python3"
  },
  "language_info": {
   "codemirror_mode": {
    "name": "ipython",
    "version": 3
   },
   "file_extension": ".py",
   "mimetype": "text/x-python",
   "name": "python",
   "nbconvert_exporter": "python",
   "pygments_lexer": "ipython3",
   "version": "3.5.2"
  }
 },
 "nbformat": 4,
 "nbformat_minor": 2
}
