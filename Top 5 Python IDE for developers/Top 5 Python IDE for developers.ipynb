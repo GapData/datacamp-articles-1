{
 "cells": [
  {
   "cell_type": "markdown",
   "metadata": {},
   "source": [
    "<img src='patolino-pernalonga-python-ide.gif'></img>"
   ]
  },
  {
   "cell_type": "markdown",
   "metadata": {},
   "source": [
    "<h1>Top 5 Python IDEs for developers</h1>"
   ]
  },
  {
   "cell_type": "markdown",
   "metadata": {
    "collapsed": true
   },
   "source": [
    "IDE stands for Integrated Development Environment. It's a coding tool which allows you to write, test and debug your code in a easier way. It's a very broad concept that may confuse you about which IDE you should use. The truth is that you can write code in almost any software, from prompt command to Windows notepad, but you also may want a proper place that combine coding facility and debugging environment.\n",
    "\n",
    "You may wondering why you should use an IDE instead of your Windows notepad, and here is the answer: practicality. For instance, imagine that you are coding in any text editor like Windows notepad. When your code be ready, you'll need to run it. You can't run your program in a text editor like this one, so you may use a prompt command to do it. Rather than use two different programs, wouldn't better have it all in just one place? That's what an IDE is ready for."
   ]
  },
  {
   "cell_type": "markdown",
   "metadata": {},
   "source": [
    "IDEs are useful for development, chiefly for data science. It allows you to edit you code easily and check for typos and errors - some IDE highlights the line where the code will crash before you execute it. <a href='http://stackoverflow.com/insights/survey/2016#technology-development-environments'>Stack Overflow performed a survey</a> in its community about, among other things, development environments, as you can see below, Notepad++ and Visual Studio are in the top of the list."
   ]
  },
  {
   "cell_type": "markdown",
   "metadata": {},
   "source": [
    "<img src='so-poll.jpg'></img>"
   ]
  },
  {
   "cell_type": "markdown",
   "metadata": {},
   "source": [
    "<h2>IDE vs Text Editors</h2>"
   ]
  },
  {
   "cell_type": "markdown",
   "metadata": {},
   "source": [
    "As we told you earlier, there are some differences between IDEs and text editors like Windows notepad. But, take a closer look at the image above. As you can see, Notepad++ - a text editor in its essence - is one of the most tools used by Stack Overflow community. Isn't it weird?\n",
    "\n",
    "In fact, many text editors can be used as an IDE by mean of plugins, just like Notepad++. Options like the <a href='https://sourceforge.net/projects/npp-plugins/files/DBGP%20Plugin/'>DBGP for Notepad++</a> install a debugger in the application, allowing you to run and analyse your code directly in your favorite text editor. However, such aspects are part of built-in features in softwares like Visual Spyder or Rodeo."
   ]
  },
  {
   "cell_type": "markdown",
   "metadata": {},
   "source": [
    "<h2>The top 5 IDEs for Python</h2>\n",
    "\n",
    "Create a list with just five IDEs is a hard task. As a matter of fact, the best IDE will be that one which makes your life easier and your work more profitable. Think about this list as a guide of softwares to test before you pick your favorite."
   ]
  },
  {
   "cell_type": "markdown",
   "metadata": {},
   "source": [
    "<img src='spyder.png' alt='Spyder interface'></img>\n",
    "<h2>Spyder</h2>\n",
    "\n",
    "If you have the Anaconda distribution installed on your computer, you probably know it. Spyder is an open source cross-plataform IDE for data science. If you have never worked with IDE, Spyder would be perfectly your first approach. It integrates the essencials libraries for data science, such as NumPy, SciPy, Matplotlib and IPython, besides that, it can be extended with plugins.\n",
    "\n",
    "Spyder contains features like text editor with syntax highlighting, code completion and variable exploring, which you can edit its value from a GUI - Graphical user interface. Spyder is free and it's available for Windows, MacOS and major Linux distributions, like Debian, Fedora and Ubuntu. You can install Spyder by <a href='https://www.continuum.io/downloads'>downloading Anaconda on Continuum's website</a>."
   ]
  },
  {
   "cell_type": "markdown",
   "metadata": {},
   "source": [
    "<img src='pycharm.jpg' alt='PyCharm interface'></img>\n",
    "<h2>PyCharm</h2>\n",
    "\n"
   ]
  },
  {
   "cell_type": "code",
   "execution_count": null,
   "metadata": {
    "collapsed": true
   },
   "outputs": [],
   "source": []
  }
 ],
 "metadata": {
  "anaconda-cloud": {},
  "kernelspec": {
   "display_name": "Python [default]",
   "language": "python",
   "name": "python3"
  },
  "language_info": {
   "codemirror_mode": {
    "name": "ipython",
    "version": 3
   },
   "file_extension": ".py",
   "mimetype": "text/x-python",
   "name": "python",
   "nbconvert_exporter": "python",
   "pygments_lexer": "ipython3",
   "version": "3.5.2"
  }
 },
 "nbformat": 4,
 "nbformat_minor": 2
}
