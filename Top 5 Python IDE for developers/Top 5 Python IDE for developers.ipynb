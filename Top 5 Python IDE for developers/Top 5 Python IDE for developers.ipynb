{
 "cells": [
  {
   "cell_type": "markdown",
   "metadata": {},
   "source": [
    "<img src='patolino-pernalonga-python-ide.gif'></img>"
   ]
  },
  {
   "cell_type": "markdown",
   "metadata": {},
   "source": [
    "<h1>Top 5 Python IDEs for developers</h1>"
   ]
  },
  {
   "cell_type": "markdown",
   "metadata": {
    "collapsed": true
   },
   "source": [
    "IDE stands for Integrated Development Environment. It's a coding tool which allows you to write, test and debug your code in a easier way. It's a very broad concept that may confuse you about which IDE you should use. The truth is that you can write code in almost any software, from prompt command to Windows notepad, but you also may want a proper place that combine coding facility and debugging environment.\n",
    "\n",
    "You may wondering why you should use an IDE instead of your Windows notepad, and here is the answer: practicality. For instance, imagine that you are coding in any text editor like Windows notepad. When your code be ready, you'll need to run it. You can't run your program in a text editor like this one, so you may use a prompt command to do it. Rather than use two different programs, wouldn't better have it all in just one place? That's what an IDE is ready for."
   ]
  },
  {
   "cell_type": "markdown",
   "metadata": {},
   "source": [
    "IDEs are useful for development, chiefly for data science. It allows you to edit you code easily and check for typos and errors - some IDE highlights the line where the code will crash before you execute it. <a href='http://stackoverflow.com/insights/survey/2016#technology-development-environments'>Stack Overflow performed a survey</a> in its community about, among other things, development environments, as you can see below, Notepad++ and Visual Studio are in the top of the list."
   ]
  },
  {
   "cell_type": "markdown",
   "metadata": {},
   "source": [
    "<h2>IDE vs Text Editors</h2>\n",
    "<img src='so-poll.jpg'></img>"
   ]
  },
  {
   "cell_type": "markdown",
   "metadata": {},
   "source": [
    "As we told you earlier, there are some differences between IDEs and text editors like Windows notepad. But, take a closer look at the image above. As you can see, Notepad++ - a text editor in its essence - is one of the most tools used by Stack Overflow community. Isn't it weird?\n",
    "\n",
    "In fact, many text editors can be used as an IDE by mean of plugins, just like Notepad++. Options like the <a href='https://sourceforge.net/projects/npp-plugins/files/DBGP%20Plugin/'>DBGP for Notepad++</a> install a debugger in the application, allowing you to run and analyse your code directly in your favorite text editor. However, such aspects are part of built-in features in softwares like Visual Spyder or Rodeo."
   ]
  },
  {
   "cell_type": "markdown",
   "metadata": {},
   "source": [
    "<h2>The top 5 IDEs for Python</h2>\n",
    "\n",
    "Create a list with just five IDEs is a hard task. As a matter of fact, the best IDE will be that one which makes your life easier and your work more profitable. Think about this list as a guide of softwares to test before you pick your favorite."
   ]
  },
  {
   "cell_type": "markdown",
   "metadata": {},
   "source": [
    "<h2>Spyder</h2>\n",
    "<img src='spyder.png' alt='Spyder interface'></img>\n",
    "\n",
    "If you have the Anaconda distribution installed on your computer, you probably know it. Spyder is an open source cross-plataform IDE for data science. If you have never worked with IDE, Spyder could be perfectly your first approach. It integrates the essencials libraries for data science, such as NumPy, SciPy, Matplotlib and IPython, besides that, it can be extended with plugins.\n",
    "\n",
    "Spyder contains features like text editor with syntax highlighting, code completion and variable exploring, which you can edit its values from a GUI - Graphical user interface. Spyder is free and it's available for Windows, MacOS and major Linux distributions, like Debian, Fedora and Ubuntu. You can install Spyder by <a href='https://www.continuum.io/downloads'>downloading Anaconda on Continuum's website</a>."
   ]
  },
  {
   "cell_type": "markdown",
   "metadata": {},
   "source": [
    "<h2>PyCharm</h2>\n",
    "<img src='pycharm.jpg' alt='PyCharm interface'></img>\n",
    "\n",
    "PyCharm is an IDE made by the guys at JetBrain, a team responsible by one of the most famous Java IDE, the IntelliJ IDEA. This tool would be a perfect choice for those who already have experience using another IDE from JetBrain, due the interface and tools be very similar.\n",
    "\n",
    "Just like another IDE, PyCharm has good features such as a code editor, errors highlighting, a powerful debugger with graphical interface, besides of an integration with Git, SVN and Mercurial. Talking about integration, if you like IPython or Anaconda distribution, you would be nice for you to know that PyCharm integrates tools like that and libraries such as NumPy and Matplotlib, allowing you from array viewers to interative plots.\n",
    "\n",
    "In addition to Python, PyCharm provides support for JavaScript, HTML/CSS, Angular JS, Node.js, and so on, what makes it a good option for web development. Available for free on Windows, Linux and Mac, you can expand PyCharm's features by mean of plugins. You can also customize your IDE, choosing different themes, color schemes and key-binding."
   ]
  },
  {
   "cell_type": "markdown",
   "metadata": {
    "collapsed": true
   },
   "source": [
    "<h2>Rodeo</h2>\n",
    "<img src='rodeo.jpg'></img>\n",
    "\n",
    "Don't let this orange hat fool you. Rodeo is one of the best Python IDE for data science and that's because it was built specifically for data analysis. It's pretty similar to RStudio - an IDE for R language -, not just because of its appearance, but also for its features. For instance, initially the IDE's window is divided in four groups: text editor, console, environment - for variable visualization - and plot/libraries/files, just like RStudio. \n",
    "<br>\n",
    "<br>\n",
    "<img src='rodeo-tutorials.gif' width='750px'></img>\n",
    "<br>\n",
    "<br>\n",
    "This isn't a bad thing, on the contrary, if you are an R user and you are migrating to Python, Rodeo surelly could be your first approach. It would also be great for newbies, thanks to its helper material such as cheatsheets and built-in tutorials. The main advantage of this IDE is its practicality. You can easily see and explore what you are creating, either by inspecting variable's values and interacting with plots and data frames. For free, Rodeo is available for Windows, Linux and Mac. "
   ]
  },
  {
   "cell_type": "markdown",
   "metadata": {
    "collapsed": true
   },
   "source": [
    "<h2>Atom</h2>\n",
    "<img src='atom.jpg'></img>\n",
    "\n",
    "An open source IDE developed by Github. Sounds good, right? That's exactly what Atom is. Altough it's available for many popular programming languages such as Ruby on Rails, PHP, Java and so on, Atom has interesting features that create a good experience for Python developers. One of the best advantages of Atom is its community, chiefly due to the constants enhancements and plugins that they develop in order to customize your IDE and improve your workflow.\n",
    "\n",
    "Based in Electron - also known as Atom Shell, a framework cross-platform desktop applications by using Chromium -, Atom is available for free for Windows, OS X and Linux. As another IDEs, it allows you to use multiples panes, select themes and colors and managing multiples projects. But, there's one thing: Atom might have an weak performance on old computers or weak CPU, but its integration with git is awesome, after all, it was made by GitHub."
   ]
  },
  {
   "cell_type": "markdown",
   "metadata": {
    "collapsed": true
   },
   "source": [
    "<h2>Jupyter Notebook</h2>\n",
    "<img src='jupyter-notebook.png'></img>\n",
    "\n"
   ]
  },
  {
   "cell_type": "markdown",
   "metadata": {
    "collapsed": true
   },
   "source": [
    "Jupyter Notebook was born out of IPython in 2014. It is a web application based on server-client structure and it allows to create and manipule notebook documents - or just \"notebooks\". Jupyter Notebook doesn't work just as an IDE, but also as a presentation tool. The notebook is divided but cells, independent blocks of code that supports programming languages like Julia, Python, R and many others. In addition to that, Jupyter Notebook supports markdown text, allowing you to add HTML components from images to videos.\n",
    "\n",
    "Thanks to Jupyter, you can easily see and edit your code in order to create compelling presentations. For instance, you can use data visualization libraries like Matplotlib and Seaborn and plot your graphs in the same document that your code is. Besides that, you can export your final work to PDF and HTML files, or you can just export it as an .py file.\n",
    "\n",
    "Jupyter Notebook is easy to install and easier to use. If you want to know everything about Jupyter and its nuances, <a href='https://www.datacamp.com/community/tutorials/tutorial-jupyter-notebook'>check it out this tutorial that will guide you through this awesome data science tool</a>."
   ]
  },
  {
   "cell_type": "markdown",
   "metadata": {},
   "source": [
    "<h2>Honorable mentions</h2>"
   ]
  },
  {
   "cell_type": "code",
   "execution_count": null,
   "metadata": {
    "collapsed": true
   },
   "outputs": [],
   "source": []
  }
 ],
 "metadata": {
  "anaconda-cloud": {},
  "kernelspec": {
   "display_name": "Python [default]",
   "language": "python",
   "name": "python3"
  },
  "language_info": {
   "codemirror_mode": {
    "name": "ipython",
    "version": 3
   },
   "file_extension": ".py",
   "mimetype": "text/x-python",
   "name": "python",
   "nbconvert_exporter": "python",
   "pygments_lexer": "ipython3",
   "version": "3.5.2"
  }
 },
 "nbformat": 4,
 "nbformat_minor": 2
}
