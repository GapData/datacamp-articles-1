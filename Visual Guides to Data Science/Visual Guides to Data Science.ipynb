{
 "cells": [
  {
   "cell_type": "markdown",
   "metadata": {},
   "source": [
    "Everybody can learn the most difficult data science concepts with some help. In some cases, seeing things explained visually can boost your learning process. Or, alternatively, if you already master concepts, visual representations are just funny to look at and can still lead to \"aha\"-moments. DataCamp have been creating cheat sheets, infographics, and even a data science periodic table - which you see below -, but we know that there are tons of visual guides over there that will help newbies and masters, from basic concepts to expert topics. \n",
    "\n",
    "That's why we have made this top data science visuals guide, categorized per data science topic:"
   ]
  },
  {
   "cell_type": "markdown",
   "metadata": {},
   "source": [
    "### Programming\n",
    "\n",
    "Python Basics https://s3.amazonaws.com/assets.datacamp.com/blog_assets/PythonForDataScience.pdf"
   ]
  },
  {
   "cell_type": "markdown",
   "metadata": {},
   "source": [
    "## Data Manipulation and Analysis\n",
    "\n",
    "### Numpy\n",
    "https://s3.amazonaws.com/assets.datacamp.com/blog_assets/Numpy_Python_Cheat_Sheet.pdf\n",
    "\n",
    "### Pandas\n",
    "https://s3.amazonaws.com/assets.datacamp.com/blog_assets/PandasPythonForDataScience.pdf\n",
    "https://s3.amazonaws.com/assets.datacamp.com/blog_assets/Python_Pandas_Cheat_Sheet_2.pdf\n",
    "\n",
    "### PySpark\n",
    "https://s3.amazonaws.com/assets.datacamp.com/blog_assets/PySpark_Cheat_Sheet_Python.pdf"
   ]
  },
  {
   "cell_type": "markdown",
   "metadata": {},
   "source": [
    "## Statistics\n",
    "\n",
    "![](./statistics.gif)\n",
    "Reference: https://media.giphy.com/media/4lsPD0wSyJCec/giphy.gif\n",
    "\n",
    "As you probably have seen in our [Learn Data Science Infographic](https://www.datacamp.com/community/tutorials/learn-data-science-infographic), statistics is one of the fundamental topics when you're learning data science. For some, this topic can prove quite the challenge. Luckly, there are some websites, books and infographics that represent statistics visually, which makes this hard topic quite accessible for anybody! \n",
    "\n",
    "### Probability & Statistics\n",
    "\n",
    "One of the well-known projects is Seeing Theory, designed and created by Daniel Kunin with the support from Brown University's Royce Fellowship Program. [This website](http://students.brown.edu/seeing-theory/index.html)'s goal is to make statistics more accessible to a wider audience through interactive visualizations.\n",
    "\n",
    "This website tackles concepts that relate to topics such as basic statistics, compound probability, probability distribution, frequentist inference and regression analysis not only in a visually attractive and interactive way, but you're also able to download PDF chapters that explain these topics even further!  \n",
    "\n",
    "![](./img/seeing_theory.png)\n",
    "\n",
    "### Statistical Tests\n",
    "\n",
    "Also, MIT has provided a good cheat sheet with statistics concepts. In this file, the authors focusses on statisticals inferences and tests. It covers topics like mean, median, population, and variance. But, that's not all. Statistical tests such as T-test and Chi-Squared test are explained by mean of example and evaluation techniques.\n",
    "\n",
    "### Bayes\n",
    "\n",
    "Also Bayesian statistics is a topic that can be explained visually. Take a look at [this video](https://www.youtube.com/watch?v=BrK7X_XlGB8) or check out [this book](). Learning Bayes has never been this fun!  "
   ]
  },
  {
   "cell_type": "markdown",
   "metadata": {},
   "source": [
    "## Machine Learning\n",
    "\n",
    "![](./machine-learning.gif)\n",
    "Reference: https://media.giphy.com/media/BdrSy2gqURFEk/giphy.gif\n",
    "\n",
    "When you have gathered a basis in statistics and maths, you can get started with machine learning, which uses statistical techniques for creating predictive models, either regression algorithms, like Linear Regression, or classification algorithms such as K-Nearest Neighbor or Decision Tree. Also here, you'll find a lot of resources to help you to get started. Take a look at the following list:\n",
    "\n",
    "### Introduction to Machine Learning\n",
    "\n",
    "[Stephanie Yee and Tony Chu have created this awesome experiment](http://www.r2d3.us/visual-intro-to-machine-learning-part-1) where they teach machine learning concepts by using data visualization with D3.js. Available in 13 different languages, this guide show the guideline for predicting house prices using a classification algorithm.\n",
    "\n",
    "### Understanding the terms\n",
    "\n",
    "By mean of emojis, [Emily Barry explains the basics concepts](http://www.emilyinamillion.me/blog/2016/5/30/the-making-of-a-cheatsheet-emoji-edition) of Machine Learning in this infographic. There's no snippets or code in this page, just a clear and objetive guide for supervised, unsupervised, and reinforcement algorithms.\n",
    "\n",
    "### Estimators\n",
    "\n",
    "Something it's hard to pick the correct estimator for your predictive model. Doubts might hunt your mind, and many hours may be spended by training and tuning them different models. To give you a hand in this tough decision, the creator of scikit-learn - one of the most used Python's library for machine learning - [created this cheat sheet](http://scikit-learn.org/stable/tutorial/machine_learning_map/ ). By answer questions in this fluxogram, you'll be guided to the proper estimator for your model.\n",
    "\n",
    "But, if you are a Microsoft Azure's user, [this cheat sheet](https://s3-ap-south-1.amazonaws.com/av-blog-media/wp-content/uploads/2017/02/17090804/microsoft-machine-learning-algorithm-cheat-sheet-v6.pdf) will be very useful for you. The algorithms are divided by different groups, such as: regression, anomaly detection, clustering, and even multi-class classification.\n",
    "\n",
    "### Clustering\n",
    "\n",
    "![](./clustering.png)\n",
    "source: http://scikit-learn.org/stable/_images/sphx_glr_plot_cluster_comparison_0011.png\n",
    "\n",
    "Clustering is a important technique for data scientist that need to generate segments - a.k.a clusters. For example, it can help you to understand the next movies you can suggest for your customers, or which product they might buy. Fortunately, there're some good resources that we can learn and explore. Check it out:\n",
    "\n",
    "\n",
    "- [Clustering with scikit-learn and GIFs](https://dashee87.github.io/data%20science/general/Clustering-with-Scikit-with-GIFs/)\n",
    "\n",
    "- [Visualizing K-means clustering](https://www.naftaliharris.com/blog/visualizing-k-means-clustering/)\n",
    "\n",
    "### Neural Networks\n",
    "\n",
    "Especially for neural network models and architectures, you'll find that there are quite some sites, infographics and visualizations that can help you. Here are a couple of them:\n",
    "\n",
    "- [Neural Network Zoo](http://www.asimovinstitute.org/neural-network-zoo/)\n",
    "- [TensorFlow Playground](http://playground.tensorflow.org/)\n",
    "- [TensorFlow Cheat Sheet](https://www.altoros.com/tensorflow-cheat-sheet.html)\n",
    "- [Keras Cheat Sheet](https://s3.amazonaws.com/assets.datacamp.com/blog_assets/Keras_Cheat_Sheet_Python.pdf)"
   ]
  },
  {
   "cell_type": "markdown",
   "metadata": {},
   "source": [
    "## Key Data Science Topics\n",
    "\n",
    "We've created what we call the [Data Science Periodic Table](https://s3.amazonaws.com/assets.datacamp.com/blog_assets/Data-Science-Periodic-Table.pdf), created based on surveys taken from data science users. The purpose of this guide is provide good refferences and resources for beginners and experts students, resulting in this guide, which contains from Podcasts and Courses, to Boot Camps and Conferences to attend."
   ]
  },
  {
   "cell_type": "markdown",
   "metadata": {},
   "source": [
    "## Data visualization\n",
    "Like this but barely the best visual out there: http://www.datavizcatalogue.com/. Another good option is the website https://python-graph-gallery.com/, which includes snippets of how to create the charts that are shown there.\n",
    "\n",
    "R user? No problem:https://www.rstudio.com/wp-content/uploads/2015/03/ggplot2-cheatsheet.pdf\n",
    "\n",
    "Data Manipulation? \n",
    "Algorithms? https://bost.ocks.org/mike/algorithms/  not all that fancy (sorting algorithms: http://sorting.at/ pretty fancy) "
   ]
  },
  {
   "cell_type": "markdown",
   "metadata": {},
   "source": [
    "Have you found other resources that can be added to the above list? Please let me know on Twitter! [@willems_karlijn](https://twitter.com/willems_karlijn) is my handle :) "
   ]
  }
 ],
 "metadata": {
  "kernelspec": {
   "display_name": "Python 3",
   "language": "python",
   "name": "python3"
  },
  "language_info": {
   "codemirror_mode": {
    "name": "ipython",
    "version": 3
   },
   "file_extension": ".py",
   "mimetype": "text/x-python",
   "name": "python",
   "nbconvert_exporter": "python",
   "pygments_lexer": "ipython3",
   "version": "3.6.1"
  }
 },
 "nbformat": 4,
 "nbformat_minor": 2
}
